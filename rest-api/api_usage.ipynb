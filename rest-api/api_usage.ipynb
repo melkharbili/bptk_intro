{
 "cells": [
  {
   "cell_type": "markdown",
   "id": "blank-header",
   "metadata": {},
   "source": [
    "# Introduction to BptkServer"
   ]
  },
  {
   "cell_type": "markdown",
   "id": "03f508dc-a786-4e46-b874-9a75214f6169",
   "metadata": {},
   "source": [
    "This notebook illustrates how to use the BPTK REST API. To get started you first need to start the server for the customer acquisition model from a Terminal console by running the `run_server.sh` script in this directory. The server should then be running on port 5000.\n",
    "\n",
    "The REST API server is essentially a wrapper around the regular `bptk`class. The server is implemented using Flask and provides all the REST Endpoints / Routes that you need to interact with a simulation scenario."
   ]
  },
  {
   "cell_type": "markdown",
   "id": "96fb2123-6cee-408a-8319-3f1a29acede2",
   "metadata": {},
   "source": [
    "![Overview](../images/bptk_rest_api_server.svg)"
   ]
  },
  {
   "cell_type": "code",
   "execution_count": 1,
   "id": "meaning-immunology",
   "metadata": {},
   "outputs": [],
   "source": [
    "# find documentation for the requests library on https://docs.python-requests.org/\n",
    "import requests\n",
    "import json"
   ]
  },
  {
   "cell_type": "markdown",
   "id": "f31483c7-da8a-4211-8828-a2d3402684e6",
   "metadata": {},
   "source": [
    "## List scenarios"
   ]
  },
  {
   "cell_type": "markdown",
   "id": "6c2791ff-f868-4717-a603-d76482d56747",
   "metadata": {},
   "source": [
    "Get a list of scenarios that the server knows about:"
   ]
  },
  {
   "cell_type": "code",
   "execution_count": 2,
   "id": "greenhouse-edward",
   "metadata": {},
   "outputs": [],
   "source": [
    "response = requests.get(\"http://localhost:5000/scenarios\")"
   ]
  },
  {
   "cell_type": "code",
   "execution_count": 3,
   "id": "protecting-jackson",
   "metadata": {},
   "outputs": [
    {
     "data": {
      "text/plain": [
       "<Response [200]>"
      ]
     },
     "execution_count": 3,
     "metadata": {},
     "output_type": "execute_result"
    }
   ],
   "source": [
    "response"
   ]
  },
  {
   "cell_type": "code",
   "execution_count": 4,
   "id": "defensive-sleeping",
   "metadata": {},
   "outputs": [
    {
     "data": {
      "text/plain": [
       "{'sddsl_customer_acquisition': ['base',\n",
       "  'low_word_of_mouth',\n",
       "  'high_word_of_mouth',\n",
       "  'interactive_scenario']}"
      ]
     },
     "execution_count": 4,
     "metadata": {},
     "output_type": "execute_result"
    }
   ],
   "source": [
    "response.json()"
   ]
  },
  {
   "cell_type": "markdown",
   "id": "93db244d-f047-4b9a-a0a4-fdd105ddc5b8",
   "metadata": {},
   "source": [
    "## List equations"
   ]
  },
  {
   "cell_type": "markdown",
   "id": "employed-society",
   "metadata": {},
   "source": [
    "Get the equations known to the dashboard scenario:"
   ]
  },
  {
   "cell_type": "code",
   "execution_count": 5,
   "id": "imported-alcohol",
   "metadata": {},
   "outputs": [],
   "source": [
    "response = requests.post(\n",
    "    url=\"http://localhost:5000/equations\",\n",
    "    json = {\n",
    "    \"scenarioManager\": \"sddsl_customer_acquisition\",\n",
    "    \"scenario\":\"interactive_scenario\"\n",
    "}\n",
    ")"
   ]
  },
  {
   "cell_type": "markdown",
   "id": "0e2d7aab-5b70-4f2f-b53a-b252db63a24f",
   "metadata": {},
   "source": [
    "Check the response"
   ]
  },
  {
   "cell_type": "code",
   "execution_count": 6,
   "id": "6439e30d-a63a-4c32-a052-19da93f74074",
   "metadata": {},
   "outputs": [
    {
     "data": {
      "text/plain": [
       "<Response [200]>"
      ]
     },
     "execution_count": 6,
     "metadata": {},
     "output_type": "execute_result"
    }
   ],
   "source": [
    "response"
   ]
  },
  {
   "cell_type": "markdown",
   "id": "696c1447-4523-4e70-b94b-13992a0798ef",
   "metadata": {},
   "source": [
    "Read the response content"
   ]
  },
  {
   "cell_type": "code",
   "execution_count": 7,
   "id": "peaceful-allen",
   "metadata": {},
   "outputs": [
    {
     "data": {
      "text/plain": [
       "{'constants': ['word_of_mouth_success',\n",
       "  'target_market',\n",
       "  'advertising_success',\n",
       "  'contact_rate',\n",
       "  'consumers_reached_per_ruro',\n",
       "  'advertising_budget',\n",
       "  'initial_customers'],\n",
       " 'converters': ['consumers_reached_through_word_of_mouth',\n",
       "  'acquisition_through_word_of_mouth',\n",
       "  'consumers_reached_through_advertising',\n",
       "  'market_saturation',\n",
       "  'acquisition_through_advertising'],\n",
       " 'flows': ['customer_acquisition'],\n",
       " 'points': [],\n",
       " 'stocks': ['potential_customers', 'customers']}"
      ]
     },
     "execution_count": 7,
     "metadata": {},
     "output_type": "execute_result"
    }
   ],
   "source": [
    "response.json()"
   ]
  },
  {
   "cell_type": "markdown",
   "id": "01d4ed50-ef83-4474-b1f3-f989d6cbda9e",
   "metadata": {},
   "source": [
    "## Run some scenarios"
   ]
  },
  {
   "cell_type": "markdown",
   "id": "optional-attempt",
   "metadata": {},
   "source": [
    "Get some data for a scenario and some equations:"
   ]
  },
  {
   "cell_type": "code",
   "execution_count": 13,
   "id": "meaning-cabinet",
   "metadata": {},
   "outputs": [],
   "source": [
    "response = requests.post(\n",
    "    url=\"http://localhost:5000/run\",\n",
    "    json = {\n",
    "    \"scenario_managers\": [\n",
    "        \"sddsl_customer_acquisition\"\n",
    "    ],\n",
    "    \"scenarios\": [\n",
    "        \"base\",\n",
    "        'low_word_of_mouth',\n",
    "        'high_word_of_mouth',\n",
    "        \"interactive_scenario\"\n",
    "        \n",
    "    ],\n",
    "    \"equations\": [\n",
    "        \"customers\",\n",
    "        \"customer_acquisition\",\n",
    "        \"market_saturation\"\n",
    "    ],\n",
    "    \"settings\":{\n",
    "        \"sddsl_customer_acquisition\":{\n",
    "            \"interactive_scenario\":\n",
    "            {\n",
    "                \"constants\":{\n",
    "                    \"word_of_mouth_success\":0.5\n",
    "                }\n",
    "            }\n",
    "            \n",
    "        }\n",
    "    }\n",
    "}\n",
    ")"
   ]
  },
  {
   "cell_type": "code",
   "execution_count": 14,
   "id": "3a6558b9-b6f8-4aab-8fd8-01260cb28a37",
   "metadata": {},
   "outputs": [
    {
     "data": {
      "text/plain": [
       "<Response [200]>"
      ]
     },
     "execution_count": 14,
     "metadata": {},
     "output_type": "execute_result"
    }
   ],
   "source": [
    "response"
   ]
  },
  {
   "cell_type": "code",
   "execution_count": 15,
   "id": "65a37b92-2160-4125-a722-4e541b3740a9",
   "metadata": {},
   "outputs": [
    {
     "data": {
      "text/plain": [
       "{'1.0': 0.0,\n",
       " '2.0': 0.016666666666666666,\n",
       " '3.0': 0.034694444444444444,\n",
       " '4.0': 0.05413194436728395,\n",
       " '5.0': 0.07501657965779268,\n",
       " '6.0': 0.09737187924025335,\n",
       " '7.0': 0.1212047408902633,\n",
       " '8.0': 0.14650274370969096,\n",
       " '9.0': 0.17323166696071848,\n",
       " '10.0': 0.20133338483031274,\n",
       " '11.0': 0.23072432038144908,\n",
       " '12.0': 0.26129464254502166,\n",
       " '13.0': 0.29290837373483375,\n",
       " '14.0': 0.32540454000567137,\n",
       " '15.0': 0.35859944020718043,\n",
       " '16.0': 0.39229003770608845,\n",
       " '17.0': 0.42625839347991806,\n",
       " '18.0': 0.46027697113536986,\n",
       " '19.0': 0.49411456304756235,\n",
       " '20.0': 0.5275425231599575,\n",
       " '21.0': 0.5603409553824232,\n",
       " '22.0': 0.5923045030364031,\n",
       " '23.0': 0.6232474158577167,\n",
       " '24.0': 0.653007633041861,\n",
       " '25.0': 0.6814497055809227,\n",
       " '26.0': 0.7084664775890336,\n",
       " '27.0': 0.7339795424013784,\n",
       " '28.0': 0.757938574068453,\n",
       " '29.0': 0.7803197003680654,\n",
       " '30.0': 0.80112312525382,\n",
       " '31.0': 0.8203702261766603,\n",
       " '32.0': 0.8381003475583342,\n",
       " '33.0': 0.8543674905971219,\n",
       " '34.0': 0.8692370672479597,\n",
       " '35.0': 0.8827828482775062,\n",
       " '36.0': 0.8950841965793371,\n",
       " '37.0': 0.9062236410643408,\n",
       " '38.0': 0.9162848157239781,\n",
       " '39.0': 0.9253507640150104,\n",
       " '40.0': 0.9335025907032782,\n",
       " '41.0': 0.9408184312435781,\n",
       " '42.0': 0.947372701790447,\n",
       " '43.0': 0.9532355899965443,\n",
       " '44.0': 0.9584727468259837,\n",
       " '45.0': 0.9631451417540011,\n",
       " '46.0': 0.967309047158401,\n",
       " '47.0': 0.9710161218168184,\n",
       " '48.0': 0.9743135677520691,\n",
       " '49.0': 0.9772443389008316,\n",
       " '50.0': 0.979847384017862,\n",
       " '51.0': 0.9821579097560191,\n",
       " '52.0': 0.9842076529327227,\n",
       " '53.0': 0.9860251536013157,\n",
       " '54.0': 0.9876360227146422,\n",
       " '55.0': 0.9890631999378361,\n",
       " '56.0': 0.9903271985855285,\n",
       " '57.0': 0.9914463357751633,\n",
       " '58.0': 0.9924369467508938,\n",
       " '59.0': 0.9933135829858447,\n",
       " '60.0': 0.9940891941535807}"
      ]
     },
     "execution_count": 15,
     "metadata": {},
     "output_type": "execute_result"
    }
   ],
   "source": [
    "response.json()['sddsl_customer_acquisition']['base']['equations']['market_saturation']"
   ]
  },
  {
   "cell_type": "code",
   "execution_count": 16,
   "id": "bb9ed37a-89e8-4a5f-9f50-24db1f486a80",
   "metadata": {},
   "outputs": [],
   "source": [
    "response = requests.post(\n",
    "    url=\"http://localhost:5000/start-instance\"\n",
    ")"
   ]
  },
  {
   "cell_type": "code",
   "execution_count": 17,
   "id": "5c25d503-e841-4626-8b9f-280de089ec3a",
   "metadata": {},
   "outputs": [
    {
     "data": {
      "text/plain": [
       "<Response [200]>"
      ]
     },
     "execution_count": 17,
     "metadata": {},
     "output_type": "execute_result"
    }
   ],
   "source": [
    "response"
   ]
  },
  {
   "cell_type": "code",
   "execution_count": 18,
   "id": "6c057acd-c7e9-43c8-9ba1-5656bacf71fc",
   "metadata": {},
   "outputs": [],
   "source": [
    "instance_uuid=response.json()[\"instance_uuid\"]"
   ]
  },
  {
   "cell_type": "code",
   "execution_count": 19,
   "id": "dc94009d-d40c-43b6-95f7-62959898a45c",
   "metadata": {},
   "outputs": [
    {
     "data": {
      "text/plain": [
       "'3c796b4200f911ec8108acde48001122'"
      ]
     },
     "execution_count": 19,
     "metadata": {},
     "output_type": "execute_result"
    }
   ],
   "source": [
    "instance_uuid"
   ]
  },
  {
   "cell_type": "code",
   "execution_count": 20,
   "id": "595d87de-1322-46be-bc69-b333ba299b72",
   "metadata": {},
   "outputs": [],
   "source": [
    "response = requests.post(\n",
    "    url=f\"http://localhost:5000/{instance_uuid}/begin-session\",\n",
    "    json = {\n",
    "    \"scenario_managers\": [\"sddsl_customer_acquisition\"],\n",
    "    \"scenarios\":[\"interactive_scenario\"],\n",
    "    \"equations\":[\"customers\",\"word_of_mouth_success\"]\n",
    "}\n",
    ")"
   ]
  },
  {
   "cell_type": "code",
   "execution_count": 21,
   "id": "f16085be-bef8-4a99-aeb3-30c13e06bd15",
   "metadata": {},
   "outputs": [
    {
     "data": {
      "text/plain": [
       "<Response [200]>"
      ]
     },
     "execution_count": 21,
     "metadata": {},
     "output_type": "execute_result"
    }
   ],
   "source": [
    "response"
   ]
  },
  {
   "cell_type": "code",
   "execution_count": 22,
   "id": "cef915d9-ab42-4c1a-be0d-657135f6afdf",
   "metadata": {},
   "outputs": [
    {
     "data": {
      "text/plain": [
       "{'msg': 'session started'}"
      ]
     },
     "execution_count": 22,
     "metadata": {},
     "output_type": "execute_result"
    }
   ],
   "source": [
    "response.json()"
   ]
  },
  {
   "cell_type": "code",
   "execution_count": 29,
   "id": "55383912-2062-4730-b783-1cb97e461872",
   "metadata": {},
   "outputs": [],
   "source": [
    "response = requests.post(\n",
    "    url=f\"http://localhost:5000/{instance_uuid}/run-step\"\n",
    ")"
   ]
  },
  {
   "cell_type": "code",
   "execution_count": 30,
   "id": "f16fa100-bd0e-4d1b-b7f2-72134ae60963",
   "metadata": {},
   "outputs": [
    {
     "data": {
      "text/plain": [
       "<Response [200]>"
      ]
     },
     "execution_count": 30,
     "metadata": {},
     "output_type": "execute_result"
    }
   ],
   "source": [
    "response"
   ]
  },
  {
   "cell_type": "code",
   "execution_count": 31,
   "id": "82ac7c4e-a08f-46d4-bc93-d90403a714a6",
   "metadata": {},
   "outputs": [
    {
     "data": {
      "text/plain": [
       "{'sddsl_customer_acquisition': {'interactive_scenario': {'customers': {'3.0': 2081.6666666666665},\n",
       "   'word_of_mouth_success': {'3.0': 0.01}}}}"
      ]
     },
     "execution_count": 31,
     "metadata": {},
     "output_type": "execute_result"
    }
   ],
   "source": [
    "response.json()"
   ]
  },
  {
   "cell_type": "code",
   "execution_count": 32,
   "id": "93ebba1f-8ce7-479f-8751-0be581deb451",
   "metadata": {},
   "outputs": [],
   "source": [
    "response = requests.post(\n",
    "    url=f\"http://localhost:5000/{instance_uuid}/run-step\",\n",
    "    json = {\n",
    "    \"settings\": {\n",
    "        \"sddsl_customer_acquisition\":\n",
    "        {\n",
    "            \"interactive_scenario\":{\n",
    "                \"constants\":{\n",
    "                 \"word_of_mouth_success\":0.7\n",
    "                }\n",
    "            }\n",
    "        }\n",
    "    }\n",
    "}\n",
    ")"
   ]
  },
  {
   "cell_type": "code",
   "execution_count": 33,
   "id": "032540c2-7200-43dd-bbe8-4082a813f312",
   "metadata": {},
   "outputs": [
    {
     "data": {
      "text/plain": [
       "{'sddsl_customer_acquisition': {'interactive_scenario': {'customers': {'4.0': 3247.916662037037},\n",
       "   'word_of_mouth_success': {'4.0': 0.7}}}}"
      ]
     },
     "execution_count": 33,
     "metadata": {},
     "output_type": "execute_result"
    }
   ],
   "source": [
    "response.json()"
   ]
  },
  {
   "cell_type": "markdown",
   "id": "10d0e716-f787-48f8-a73f-44e9159b98cf",
   "metadata": {},
   "source": [
    "You can start as many instances as you like - typically one for every user that starts an interactive session via a front-end. Let's sart another session to illustrate this."
   ]
  },
  {
   "cell_type": "code",
   "execution_count": 34,
   "id": "e5e4c454-3f4a-40ea-bb67-8e9b6e8eade0",
   "metadata": {},
   "outputs": [],
   "source": [
    "response = requests.post(\n",
    "    url=\"http://localhost:5000/start-instance\"\n",
    ")"
   ]
  },
  {
   "cell_type": "code",
   "execution_count": 35,
   "id": "432e35f1-1c71-4d5e-9fc7-96fdc32b5df9",
   "metadata": {},
   "outputs": [],
   "source": [
    "another_instance_uuid=response.json()[\"instance_uuid\"]"
   ]
  },
  {
   "cell_type": "code",
   "execution_count": 36,
   "id": "f0b2c5f0-1d75-4cd1-a603-406a6883e7ff",
   "metadata": {},
   "outputs": [
    {
     "data": {
      "text/plain": [
       "'ba6e9e5000f911ec8108acde48001122'"
      ]
     },
     "execution_count": 36,
     "metadata": {},
     "output_type": "execute_result"
    }
   ],
   "source": [
    "another_instance_uuid"
   ]
  },
  {
   "cell_type": "code",
   "execution_count": 37,
   "id": "1d652a0b-827f-420a-b560-e22515a073ac",
   "metadata": {},
   "outputs": [],
   "source": [
    "response = requests.post(\n",
    "    url=f\"http://localhost:5000/{another_instance_uuid}/begin-session\",\n",
    "    json = {\n",
    "    \"scenario_managers\": [\"sddsl_customer_acquisition\"],\n",
    "    \"scenarios\":[\"interactive_scenario\"],\n",
    "    \"equations\":[\"customers\",\"word_of_mouth_success\"]\n",
    "}\n",
    ")"
   ]
  },
  {
   "cell_type": "code",
   "execution_count": 38,
   "id": "68bfd2f8-0ae9-4c61-b31c-ba66e8a1275d",
   "metadata": {},
   "outputs": [],
   "source": [
    "response = requests.post(\n",
    "    url=f\"http://localhost:5000/{another_instance_uuid}/run-step\",\n",
    "    json = {\n",
    "        \"settings\": {\n",
    "            \"sddsl_customer_acquisition\":\n",
    "            {\n",
    "                \"interactive_scenario\":{\n",
    "                    \"constants\":{\n",
    "                     \"word_of_mouth_success\":0.1\n",
    "                    }\n",
    "                }\n",
    "            }\n",
    "        }\n",
    "    }\n",
    ")"
   ]
  },
  {
   "cell_type": "code",
   "execution_count": 39,
   "id": "9d24be08-884c-4c63-96e0-e80a20dede21",
   "metadata": {},
   "outputs": [
    {
     "data": {
      "text/plain": [
       "{'sddsl_customer_acquisition': {'interactive_scenario': {'customers': {'1.0': 0.0},\n",
       "   'word_of_mouth_success': {'1.0': 0.1}}}}"
      ]
     },
     "execution_count": 39,
     "metadata": {},
     "output_type": "execute_result"
    }
   ],
   "source": [
    "response.json()"
   ]
  },
  {
   "cell_type": "code",
   "execution_count": 40,
   "id": "79bb8796-b033-4165-97a5-e5efa8ac637d",
   "metadata": {},
   "outputs": [],
   "source": [
    "response = requests.post(\n",
    "    url=f\"http://localhost:5000/{instance_uuid}/run-step\",\n",
    "    json = {\n",
    "        \"settings\": {\n",
    "            \"sddsl_customer_acquisition\":\n",
    "            {\n",
    "                \"interactive_scenario\":{\n",
    "                    \"constants\":{\n",
    "                     \"word_of_mouth_success\":0.07\n",
    "                    }\n",
    "                }\n",
    "            }\n",
    "        }\n",
    "    }\n",
    ")"
   ]
  },
  {
   "cell_type": "code",
   "execution_count": 41,
   "id": "583ed801-ea64-441c-b4ca-409cc6ae7b64",
   "metadata": {},
   "outputs": [
    {
     "data": {
      "text/plain": [
       "{'sddsl_customer_acquisition': {'interactive_scenario': {'customers': {'5.0': 25698.489043516267},\n",
       "   'word_of_mouth_success': {'5.0': 0.07}}}}"
      ]
     },
     "execution_count": 41,
     "metadata": {},
     "output_type": "execute_result"
    }
   ],
   "source": [
    "response.json()"
   ]
  },
  {
   "cell_type": "code",
   "execution_count": null,
   "id": "d3167b16-a7d2-4eeb-93f1-1cb9ab06d2dc",
   "metadata": {},
   "outputs": [],
   "source": []
  }
 ],
 "metadata": {
  "kernelspec": {
   "display_name": "Python 3 (ipykernel)",
   "language": "python",
   "name": "python3"
  },
  "language_info": {
   "codemirror_mode": {
    "name": "ipython",
    "version": 3
   },
   "file_extension": ".py",
   "mimetype": "text/x-python",
   "name": "python",
   "nbconvert_exporter": "python",
   "pygments_lexer": "ipython3",
   "version": "3.9.6"
  }
 },
 "nbformat": 4,
 "nbformat_minor": 5
}
